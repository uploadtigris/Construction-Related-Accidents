{
 "cells": [
  {
   "cell_type": "raw",
   "id": "436abd40",
   "metadata": {},
   "source": [
    "---\n",
    "title: \"SDS 322E Project - EDA Report\"\n",
    "output:\n",
    "  word_document: default\n",
    "  html_document: default\n",
    "date: \"10-21-2024\"\n",
    "Team Member 1: Dan Tatelescu\n",
    "Team Member 2: Tigris Mendez\n",
    "---"
   ]
  },
  {
   "cell_type": "code",
   "execution_count": null,
   "id": "ad55555c",
   "metadata": {
    "name": "setup",
    "tags": [
     "remove_cell"
    ]
   },
   "outputs": [],
   "source": [
    "knitr::opts_chunk$set(echo = TRUE)"
   ]
  },
  {
   "cell_type": "markdown",
   "id": "6beeb5e1",
   "metadata": {},
   "source": [
    "## Description - EDA Report 2\n",
    "\n",
    "# Title and Introduction\n",
    "\n",
    "Analysts - Tigris Mendez and Dan Tatulescu\n",
    "\n",
    "We would like to know how construction affects traffic incident rates. We use construction permits as a proxy for the actual number of construction sites in a zip code. Our motivation is to show high risk construction projects, which may deserve a greater degree of road safety preparation. [This study](https://www.sciencedirect.com/science/article/pii/S235214652100819X), by Mangones, et al. (2021), has shown that construction projects can increase traffic incidents when there is use of excavation of more than half a meter. We wish to localize this experiment to Austin and understand how the different types of construction projects affect traffic incident rates.\n",
    "\n",
    "Name - [Issued Construction Permits](https://data.austintexas.gov/Building-and-Development/Issued-Construction-Permits/3syk-w9eu/about_data)\n",
    "\n",
    "Description - This data set contains \"Building, Electrical, Mechanical, and Plumbing Permits and Driveway/Sidewalk Permits issued by the City of Austin. Includes relevant details such as issue date, location, council district, expiration date, description of work, square footage, valuation, and units.\" (City of Austin open data portal)\n",
    "\n",
    "Rows & Columns - There are 897369 rows and 68 columns.\n",
    "\n",
    "Unique Rows - A single row represents a construction permit.\n",
    "\n",
    "**Main Variables of Interest - Construction Permits**\n",
    "\n",
    "-   **Permit.Type.Desc** -\\> Description of the Permit Type\n",
    "-   **Permit.Class** -\\> \"Sub Type of the permit\", it will be re-categorized as Residential or Commercial permits.\n",
    "-   **Issued.Date** -\\> Date on which the permit was issued\n",
    "-   **Status.Current** -\\> Current status of permit\n",
    "-   **Number.Of.Floors** -\\> How many floors property has\n",
    "-   **Original.Zip** -\\> Zip code of the property associated with the permit\n",
    "\n",
    "### Dataset 2\n",
    "\n",
    "Name - [Real-Time Incidents](https://data.austintexas.gov/Transportation-and-Mobility/Real-Time-Traffic-Incident-Reports/dx9v-zd7x/about_data)\n",
    "\n",
    "Description - \"This data set contains various traffic incidents from the Austin-Travis County traffic reports collected from the various Public Safety agencies through a data feed from the Combined Transportation, Emergency, and Communications Center (CTECC).\" (City of Austin open data portal)\n",
    "\n",
    "Rows & Columns - There are 356150 rows and 22 columns.\n",
    "\n",
    "Unique Rows - A single row represents a traffic incident.\n",
    "\n",
    "**Main Variables of Interest - Traffic Incidents:**\n",
    "\n",
    "-   **Published_Date** -\\> The date the report was published\n",
    "-   **Issue_Reported** -\\> The reported issue, based on the selection by reporting agency\n",
    "-   **Zip code** -\\> Processed from lat/lon using ArcGIS reverse-geocoding\n",
    "\n",
    "## Expecations\n",
    "\n",
    "**Trends and Relationships**\n",
    "\n",
    "We expect that Commercial Projects cause an increase in Traffic Incident rates. We expect that there will be more traffic incidents during the months of mid spring when there is more rain. We also expect that there will be a difference in Traffic Incidents rates based upon the proximity of zip codes to the Austin city center.\n",
    "\n",
    "**Research Question - Dan**\n",
    "\n",
    "Is there a difference in impact of Residential or Commercial construction projects on Traffic Incidents? We will eventually determine this causal relationship through the rejection of the null hypothesis which states that the impact of Commercial Permits and Residential Permits on Traffic Incidents are equivalent.\n",
    "\n",
    "**Research Question - Tigris**\n",
    "\n",
    "How do spatial concentrations of Traffic Incidents change throughout the year?\n",
    "\n",
    "## Install & Call Libraries"
   ]
  },
  {
   "cell_type": "code",
   "execution_count": null,
   "id": "62c94df2",
   "metadata": {},
   "outputs": [],
   "source": [
    "#install.packages(\"ggmap\")\n",
    "#install.packages\n",
    "#install.packages(\"tidygeocoder\")\n",
    "#install.packages(\"ggplot2\")\n",
    "#install.packages(\"sf\")\n",
    "#install.packages(\"tigris\")\n",
    "library(\"sf\")\n",
    "library(\"tigris\")\n",
    "library(\"dplyr\")\n",
    "library(\"ggplot2\")\n",
    "library(\"ggmap\")\n",
    "library(\"tidyverse\")\n",
    "library(\"zipcodeR\")\n",
    "library(\"tidygeocoder\")"
   ]
  },
  {
   "cell_type": "markdown",
   "id": "1c54930b",
   "metadata": {},
   "source": [
    "# Methods\n",
    "\n",
    "## Inputting Data"
   ]
  },
  {
   "cell_type": "code",
   "execution_count": null,
   "id": "39114ae4",
   "metadata": {},
   "outputs": [],
   "source": [
    "# This code reads the Construction Permit data set into a R dataframe\n",
    "construction_permits <- read.csv(\"~/My Documents/UT Course Files/UT Fall 2024/SDS 322E/SDS Project Files/Original Data/Issued_Construction_Permits_20241006.csv\", header=TRUE)\n",
    "\n",
    "head(construction_permits)\n",
    "as.data.frame(colnames(construction_permits))"
   ]
  },
  {
   "cell_type": "code",
   "execution_count": null,
   "id": "be3ee8f1",
   "metadata": {},
   "outputs": [],
   "source": [
    "dim(construction_permits)"
   ]
  },
  {
   "cell_type": "markdown",
   "id": "e76d590b",
   "metadata": {},
   "source": [
    "**Note - ArcGIS Reverse Geocoding Process**\n",
    "\n",
    "In the Traffic Incidents data set there was not a column for Zip codes. Because there was available data for latitude and longitude, we decided to reverse-geocode the lat/lon values in a column of zip codes. We initially were attempting to utilize Maps API services to perform this task but it was cost prohibitive. We opted to use a Geographic Information System software named ArcGIS to produce the Zipcode data leveraging a TIGER/Line Shapefile provided by the US Census Bureau to reverse geocode the lat/lon figures through ArcGIS's geoferencing capabilities."
   ]
  },
  {
   "cell_type": "code",
   "execution_count": null,
   "id": "32299a95",
   "metadata": {},
   "outputs": [],
   "source": [
    "# This code reads the Traffic Incidents data set into a R dataframe\n",
    "traffic_indcidents <- read.csv(\"~/My Documents/UT Course Files/UT Fall 2024/SDS 322E/SDS Project Files/Original Data/joined_traffic_zipcode_csv.csv\")\n",
    "\n",
    "head(traffic_indcidents)\n",
    "as.data.frame(colnames(traffic_indcidents))"
   ]
  },
  {
   "cell_type": "code",
   "execution_count": null,
   "id": "1d6759c6",
   "metadata": {},
   "outputs": [],
   "source": [
    "dim(traffic_indcidents)"
   ]
  },
  {
   "cell_type": "markdown",
   "id": "c5be57c3",
   "metadata": {},
   "source": [
    "## Cleaning Data\n",
    "\n",
    "### Removing unneeded columns"
   ]
  },
  {
   "cell_type": "code",
   "execution_count": null,
   "id": "12d0596d",
   "metadata": {},
   "outputs": [],
   "source": [
    "# Selecting only the useful columns for Traffic Indcidents Dataset\n",
    "ti_df = traffic_indcidents[,c('Published_Date',\n",
    "                              'Issue_Reported',\n",
    "                              'ZCTA5CE20')]\n",
    "\n",
    "ti_df |>\n",
    "  count(Issue_Reported)\n",
    "\n",
    "# renaming the zipcode column\n",
    "ti_df <- ti_df |>\n",
    "  rename(zipcode = ZCTA5CE20)"
   ]
  },
  {
   "cell_type": "code",
   "execution_count": null,
   "id": "0ca800c4",
   "metadata": {
    "lines_to_next_cell": 0
   },
   "outputs": [],
   "source": [
    "# Selecting only the useful columns for Construction permits\n",
    "cp_df = construction_permits[,c('Permit.Class',\n",
    "                                'Permit.Type.Desc',\n",
    "                                'Issued.Date',\n",
    "                                'Status.Current',\n",
    "                                'Number.Of.Floors',\n",
    "                                'Original.Zip')]\n",
    "\n",
    "unique(cp_df$Permit.Type.Desc)"
   ]
  },
  {
   "cell_type": "code",
   "execution_count": null,
   "id": "6abf6808",
   "metadata": {},
   "outputs": [],
   "source": []
  },
  {
   "cell_type": "code",
   "execution_count": null,
   "id": "9a5cb25c",
   "metadata": {},
   "outputs": [],
   "source": [
    "# if starting character equals R, we isolate it to represent Residential\n",
    "# if starting character equals C, we isolate it to represent Commercial\n",
    "cp_df$Permit.Class.Simple <- ifelse(cp_df$Permit.Class == \"\", \"\",\n",
    "                                    substr(cp_df$Permit.Class, 1, 1))\n",
    "\n",
    "cp_df$Permit.Class.Simple <- ifelse(cp_df$Permit.Class.Simple == \"S\", NA,\n",
    "                                    cp_df$Permit.Class.Simple)\n",
    "\n",
    "cp_df$Permit.Class.Simple <- ifelse(cp_df$Permit.Class.Simple == \"\", NA,\n",
    "                                    cp_df$Permit.Class.Simple)\n",
    "\n",
    "unique(cp_df$Permit.Type.Desc)\n",
    "head(cp_df)\n",
    "unique(cp_df$Status.Current)\n",
    "dim(cp_df)"
   ]
  },
  {
   "cell_type": "markdown",
   "id": "b56bb2c5",
   "metadata": {},
   "source": [
    "### Filtering Status.Current for only Final, Active,"
   ]
  },
  {
   "cell_type": "code",
   "execution_count": null,
   "id": "f9db0e14",
   "metadata": {},
   "outputs": [],
   "source": [
    "# Find the number of each Status among the cp_df dataset\n",
    "cp_df |>\n",
    "  count(Status.Current)"
   ]
  },
  {
   "cell_type": "markdown",
   "id": "c297ec00",
   "metadata": {},
   "source": [
    "**After counting the number of Status occurrences, we see that 'Final', 'Active' and 'Expired' are the most common status among the permits. We omit 'Expired' and the rest of the categories as they do not have a large impact on the number of traffic incidents. (Note: Some permits may have status that implies that a new permit was created. Because of the involved ambiguity, and the fact that these number of these permits is low, we do not include them in the data set from here on.)**"
   ]
  },
  {
   "cell_type": "code",
   "execution_count": null,
   "id": "7b54c695",
   "metadata": {},
   "outputs": [],
   "source": [
    "# Filtering only for permits with Status of 'Active' or 'Final'\n",
    "cp_df <- cp_df |>\n",
    "  filter(Status.Current %in% c('Final', 'Active'))\n",
    "\n",
    "cp_df |>\n",
    "  count(Status.Current)"
   ]
  },
  {
   "cell_type": "markdown",
   "id": "ef40c4b7",
   "metadata": {},
   "source": [
    "### NA Values\n",
    "\n",
    "Count NA Values"
   ]
  },
  {
   "cell_type": "code",
   "execution_count": null,
   "id": "7ecb0210",
   "metadata": {},
   "outputs": [],
   "source": [
    "# counts the number of rows with missing values\n",
    "missing_rows_count_ti <- sum(!complete.cases(ti_df))\n",
    "missing_rows_count_cp <- sum(!complete.cases(cp_df))\n",
    "\n",
    "\n",
    "sprintf(\"There are % s rows with missing values in the traffic incidents dataset.\", missing_rows_count_ti)\n",
    "sprintf(\"There are % s rows with missing values in the construction permits dataset.\", missing_rows_count_cp)"
   ]
  },
  {
   "cell_type": "markdown",
   "id": "3c753a3d",
   "metadata": {},
   "source": [
    "Drop NA Values"
   ]
  },
  {
   "cell_type": "code",
   "execution_count": null,
   "id": "a31463a7",
   "metadata": {},
   "outputs": [],
   "source": [
    "# dropping NA values from the Traffic Incidents data set & saving the data frame\n",
    "ti_df_noNA <- na.omit(ti_df)"
   ]
  },
  {
   "cell_type": "code",
   "execution_count": null,
   "id": "6633d7d8",
   "metadata": {},
   "outputs": [],
   "source": [
    "# assign rows with description type of \"Driveway / Sidewalks\" to 0\n",
    "cp_df$Number.Of.Floors <- ifelse(is.na(cp_df$Number.Of.Floors) & cp_df$Permit.Type.Desc == \"Driveway / Sidewalks\", 0, cp_df$Number.Of.Floors)\n",
    "\n",
    "# Drop Number.of.floors above 80 (The tallest building in Austin is 75-floors)\n",
    "cp_df <- cp_df |>\n",
    "  filter(Number.Of.Floors <= 75)\n",
    "\n",
    "# dropping NA values from the Construction Permits data set & saving the data frame\n",
    "cp_df_noNA <- na.omit(cp_df)"
   ]
  },
  {
   "cell_type": "markdown",
   "id": "1fccc91c",
   "metadata": {},
   "source": [
    "Rows and Columns of resulting data set after cleaning"
   ]
  },
  {
   "cell_type": "code",
   "execution_count": null,
   "id": "83e312d7",
   "metadata": {},
   "outputs": [],
   "source": [
    "# Rows and Columns of the cleaned Traffic Incident data set\n",
    "dim(ti_df_noNA)\n",
    "# Rows and Columns of the cleaned Construction Permit data set\n",
    "dim(cp_df_noNA)"
   ]
  },
  {
   "cell_type": "markdown",
   "id": "3c960727",
   "metadata": {},
   "source": [
    "**In the Traffic Incident data set we started with 356,150 rows and 22 columns.** **In the Construction Permits data set we started with 897,369 rows and 68 columns.** **In the Traffic Incident data set we ended with 355,333 and 3 columns.** **In the Construction Permits data set we ended with 737,781 and 7 columns.**\n",
    "\n",
    "We selected certain rows based on their relevance to our area of investigation, which reduced the number of columns. We utilized ArcGIS Pro to create a zipcode column for traffic incidents based on the existing latitude and longitude columns for each row.\n",
    "\n",
    "We also dropped any rows that contained missing values across the columns of interest. And prior to that, we converted the number of floors for rows with the 'Driveway/Sidewalk' permit type description and missing floor values to be 0 as we can safely assume that sidewalks and driveways are on at ground level.\n",
    "\n",
    "The resulting data tidy in each data set as each column represents a characteristic, each row represents an individual permit or incident, and each cell represents an individual value.\n",
    "\n",
    "To match the data sets we need to group by zip codes to relate the two datasets togehter. We do this by using the groupby() method.\n",
    "\n",
    "# Results\n",
    "\n",
    "## Research Question 1 - EDA ; Visualization #1 & #2\n",
    "\n",
    "Is there a difference in impact of Residential or Commercial construction projects on Traffic Incidents?"
   ]
  },
  {
   "cell_type": "code",
   "execution_count": null,
   "id": "36981590",
   "metadata": {},
   "outputs": [],
   "source": [
    "# find the number of zip codes\n",
    "zip_code_counts <- cp_df_noNA |>\n",
    "  count(Original.Zip)"
   ]
  },
  {
   "cell_type": "markdown",
   "id": "226e47c3",
   "metadata": {},
   "source": [
    "Zip Code Counts - Summary Statistics"
   ]
  },
  {
   "cell_type": "code",
   "execution_count": null,
   "id": "38fa3d5c",
   "metadata": {},
   "outputs": [],
   "source": [
    "\n",
    "zip_count_r <- cp_df_noNA[cp_df_noNA$Permit.Class.Simple == \"R\",] |>\n",
    "  count(Original.Zip)\n",
    "\n",
    "zip_count_c <- cp_df_noNA[cp_df_noNA$Permit.Class.Simple == \"C\",] |>\n",
    "  count(Original.Zip)\n",
    "\n",
    "# plot distribution of residential permits and commercial permits across the zipcode\n",
    "ggplot(zip_count_r, aes(x = n)) +\n",
    "  geom_histogram(fill = \"skyblue\", binwidth = 750, center = 375) +\n",
    "  labs(title = \"Viz. 1: Number of Zipcodes with X permits (residential).\",\n",
    "       y = \"Number of Zipcodes\", \n",
    "       x = 'Residential Construction Permits')\n",
    "\n",
    "summary(zip_count_r)"
   ]
  },
  {
   "cell_type": "markdown",
   "id": "4063785b",
   "metadata": {},
   "source": [
    "**There are more zipcodes with fewer residential construction permits. The data is also positively skewed. The mean number of permits per zipcode is 9,876 whilst the median is 7,043.**"
   ]
  },
  {
   "cell_type": "code",
   "execution_count": null,
   "id": "a0e743df",
   "metadata": {},
   "outputs": [],
   "source": [
    "ggplot(zip_count_c, aes(x = n)) +\n",
    "  geom_histogram(fill = \"red\", binwidth = 750, center = 375) +\n",
    "  xlim(0, 40000) +\n",
    "  labs(title = \"Viz. 2: Number of Zip Codes with X level of Construction Permits (commercial).\",\n",
    "       y = \"Number of Zipcodes\", \n",
    "       x = 'Commercial Construction Permits')\n",
    "\n",
    "summary(zip_count_c)"
   ]
  },
  {
   "cell_type": "markdown",
   "id": "238f5a08",
   "metadata": {},
   "source": [
    "``` {r}\n",
    "zip_count_c_noOutlier <- zip_count_c |> \n",
    "  filter(n < 20000)\n",
    "\n",
    "ggplot(zip_count_c_noOutlier, aes(x = n)) +\n",
    "  geom_histogram(fill = \"red\", binwidth = 750, center = 375) +\n",
    "  xlim(0, 40000) +\n",
    "  labs(title = \"Viz. 2: Number of Zip Codes with X level of Construction Permits (commercial).\",\n",
    "       y = \"Number of Zipcodes\", \n",
    "       x = 'Commercial Construction Permits')\n",
    "\n",
    "summary(zip_count_c_noOutlier)\n",
    "```\n",
    "\n",
    "**There are more zipcodes with fewer commercial construction permits. The data is also positively skewed. The mean number of permits per zipcode is 4,122 whilst the median is 2,576.**"
   ]
  },
  {
   "cell_type": "code",
   "execution_count": null,
   "id": "675c6602",
   "metadata": {},
   "outputs": [],
   "source": [
    "zip_code_counts_TI <- ti_df_noNA |> count(zipcode)\n",
    "\n",
    "summary(zip_code_counts_TI)\n",
    "\n",
    "permit_join <- full_join(zip_count_c_noOutlier, zip_count_r, by = c(\"Original.Zip\"))\n",
    "\n",
    "permit_join <- permit_join |> rename(C_count = n.x, R_count = n.y)\n",
    "\n",
    "total_join <- full_join(permit_join, zip_code_counts_TI, by = c(\"Original.Zip\" = \"zipcode\")) |> rename(TI_count = n)\n",
    "\n",
    "total_join |>\n",
    "  drop_na() |>\n",
    "  ggplot() +\n",
    "  geom_point(aes(x = R_count, y = TI_count), color = \"skyblue\") +\n",
    "  labs(title = \"Viz. 3: # of Traffic Incidents vs. # of Construction Permits\", y = \"Number of Traffic Incidents\", x = 'Number of Residential Construction Permits')\n",
    "\n",
    "total_join |>\n",
    "  drop_na() |>\n",
    "  ggplot() +\n",
    "  geom_point(aes(x = C_count, y = TI_count), color = \"red\") +\n",
    "  labs(title = \"Viz. 4: # of Traffic Incidents vs. # of Comm. Construction Permits\", y = \"Number of Traffic Incidents\", x = 'Number of Commercial Construction Permits')\n",
    "\n",
    "summary(total_join)"
   ]
  },
  {
   "cell_type": "markdown",
   "id": "20f42b0f",
   "metadata": {},
   "source": [
    "**All rows with zip codes that are not in the traffic incident data set is removed. There is one zipcode missing from the commercial permits that is in the residential permits. There is 53 points in the residential scatter plot. There are 52 points in the commercial data set where each point is a zipcode. There appears to be a positive correlation between traffic incidents and both residential and commercial construction permit numbers. However, the correlation with residential construction permits is much stronger. We already discussed the commercial and resident permit statistics, but here, let us bring your attention to the traffic incidents. The mean number of traffic incidents per zipcode is 4,281 with a median of 1,917, again indicating positive skew.**\n",
    "\n",
    "## Research Question 2 - EDA ; Visualization #3 & #4\n",
    "\n",
    "How do spatial concentrations of Traffic Incidents change throughout the year?\n",
    "\n",
    "### Visualization 1"
   ]
  },
  {
   "cell_type": "code",
   "execution_count": null,
   "id": "755988a5",
   "metadata": {},
   "outputs": [],
   "source": [
    "ti_df_formatted <- ti_df_noNA"
   ]
  },
  {
   "cell_type": "code",
   "execution_count": null,
   "id": "951d8766",
   "metadata": {},
   "outputs": [],
   "source": [
    "ti_df_formatted$Published_Date <- as.POSIXct(ti_df_formatted$Published_Date, format = \"%m/%d/%Y %H:%M:%OS\")\n",
    "\n",
    "# Converting 'Issued.Date' to Date to ensure correct format\n",
    "#ti_df_noNA$Published_Date <- as.Date(ti_df_noNA$Published_Date)\n",
    "\n",
    "\n",
    "# Extracting the year from 'Issued.Date'\n",
    "ti_df_formatted$Year <- as.integer(format(ti_df_formatted$Published_Date, \"%Y\"))\n",
    "\n",
    "ti_df_formatted <- na.omit(ti_df_formatted) |>\n",
    "  filter(Year < 2024)\n",
    "\n",
    "incidents_summary <- ti_df_formatted |>\n",
    "  group_by(`zipcode`) |>\n",
    "    summarize(incidents_count = n())\n",
    "\n",
    "# showing the number of incidents per year\n",
    "years_count <- ti_df_formatted |>\n",
    "  count(Year)\n",
    "\n",
    "years_count\n",
    "\n",
    "summary(ti_df_formatted)\n"
   ]
  },
  {
   "cell_type": "code",
   "execution_count": null,
   "id": "f6ead29d",
   "metadata": {},
   "outputs": [],
   "source": [
    "# Show the traffic incidents per year\n",
    "ti_df_formatted |>\n",
    "  ggplot(aes(x = Year)) +\n",
    "  geom_histogram(binwidth = 1, center = 0, color = \"darkgreen\", fill = \"lightgreen\") +\n",
    "  scale_x_continuous(breaks = seq(2017, 2023, by = 1), labels = seq(2017, 2023, by = 1)) +\n",
    "  labs(title = \"Viz. 5: Traffic Incidents per Year\")"
   ]
  },
  {
   "cell_type": "markdown",
   "id": "dea6c53d",
   "metadata": {},
   "source": [
    "**There are 26 incidents in the year of 2024, we will remove these outliers since there are not very many.**"
   ]
  },
  {
   "cell_type": "code",
   "execution_count": null,
   "id": "6c36f745",
   "metadata": {},
   "outputs": [],
   "source": [
    "# Fetch ZIP code shapefiles for Texas\n",
    "zipcodes <- zctas(year = 2010, state = \"TX\") |>\n",
    "  select(ZCTA5CE10, geometry) |>\n",
    "  mutate(ZCTA5CE10 = as.numeric(ZCTA5CE10))\n",
    "\n",
    "ti_df_17_20 <- ti_df_formatted |>\n",
    "  filter(Year <= 2020) |>\n",
    "  group_by(`zipcode`) |>\n",
    "  summarize(incidents_count = n())\n",
    "\n",
    "summary(ti_df_17_20)\n",
    "\n",
    "ti_df_21_23 <- ti_df_formatted |>\n",
    "  filter(Year > 2020) |>\n",
    "  group_by(`zipcode`) |>\n",
    "  summarize(incidents_count = n())\n",
    "\n",
    "summary(ti_df_21_23)"
   ]
  },
  {
   "cell_type": "code",
   "execution_count": null,
   "id": "8cfaf427",
   "metadata": {},
   "outputs": [],
   "source": [
    "\n",
    "join_17_20 <- ti_df_17_20 |>\n",
    "  inner_join(zipcodes, by = c(\"zipcode\" = \"ZCTA5CE10\"))\n",
    "\n",
    "ti_df_17_20 |>\n",
    "  # Finds the elements that exists in both the shape file and the coyotes_summary data set\n",
    "  inner_join(zipcodes, by = c(\"zipcode\" = \"ZCTA5CE10\")) |>\n",
    "  # ggplot sets the charting library\n",
    "  ggplot() +\n",
    "  # \n",
    "  geom_sf(aes(geometry = geometry, fill = incidents_count), color = \"black\") +\n",
    "  \n",
    "  labs(title = \"Viz. 6: Traffic Incidents between 2017 and 2020\", x = \"Longitude\", y = \"Latitude\")\n",
    "\n",
    "ti_df_21_23 |>\n",
    "  # Finds the elements that exists in both the shape file and the coyotes_summary data set\n",
    "  inner_join(zipcodes, by = c(\"zipcode\" = \"ZCTA5CE10\")) |>\n",
    "  # ggplot sets the charting library\n",
    "  ggplot() +\n",
    "  # \n",
    "  geom_sf(aes(geometry = geometry, fill = incidents_count), color = \"black\") +\n",
    "  \n",
    "  labs(title = \"Viz. 7: Traffic Incidents between 2021 and 2023\", x = \"Longitude\", y = \"Latitude\")"
   ]
  },
  {
   "cell_type": "markdown",
   "id": "7a04b039",
   "metadata": {},
   "source": [
    "**These visualizations agree with our hypothesis that traffic incidents would be more focused in the city center. There are more zipcodes in the dataset with the years of 2017 through 2020. Between the years of 2017 and 2020 the median and mean number of traffic incidents is 1,245 and 2,501, respectively. Between the years of 2021 and 2024 the median and mean number of traffic incidents is 1,123 and 1,963.7, respectively.**\n",
    "\n",
    "### Visualization 2\n",
    "\n",
    "How do trends in traffic incidents changes throughout the year (difference by month)"
   ]
  },
  {
   "cell_type": "code",
   "execution_count": null,
   "id": "6b0e1054",
   "metadata": {},
   "outputs": [],
   "source": [
    "# Extracting the month from 'Issued.Date'\n",
    "ti_df_formatted$Month <- as.integer(format(ti_df_formatted$Published_Date, \"%m\"))\n",
    "\n",
    "ti_df_formatted |>\n",
    "  ggplot(aes(x = Month)) +\n",
    "  geom_histogram(binwidth = 1, center = 0, color = \"darkgreen\", fill = \"lightgreen\") +\n",
    "  scale_x_continuous(breaks = seq(1, 12, by = 1), labels = seq(1, 12, by = 1)) +\n",
    "  labs(title = \"Viz. 8: Traffic Incident Counts Across Each Month\")\n",
    "\n",
    "# displays the summary statistics for the \n",
    "# number of traffic incidents during each month\n",
    "ti_df_formatted |>\n",
    "  count(Month) |>\n",
    "  summary()"
   ]
  },
  {
   "cell_type": "markdown",
   "id": "fe90b959",
   "metadata": {},
   "source": [
    "**For the number of traffic incidents across the months, there is a spike in accidents during October that decreases during January. This indicates an increase in traffic incidents in the winter months. The median number of traffic incidents across the months is 28,895 while the mean is 29,604. There is a Min of 27,278 and a Max of 35,308.**"
   ]
  },
  {
   "cell_type": "code",
   "execution_count": null,
   "id": "e0952588",
   "metadata": {},
   "outputs": [],
   "source": [
    "ti_df_formatted |>\n",
    "  filter(Year <= 2020) |>\n",
    "  ggplot(aes(x = Month)) +\n",
    "  geom_histogram(binwidth = 1, center = 0, color = \"blue\", fill = \"skyblue\") +\n",
    "  scale_x_continuous(breaks = seq(1, 12, by = 1), labels = seq(1, 12, by = 1)) +\n",
    "  labs(title = \"Viz. 9: Traffic Incident Counts From 2017 To 2020\")\n",
    "\n",
    "ti_df_formatted |>\n",
    "  filter(Year <= 2020) |>\n",
    "  count(Month) |>\n",
    "  summary()"
   ]
  },
  {
   "cell_type": "markdown",
   "id": "a6b4716a",
   "metadata": {},
   "source": [
    "**When we separate the the month against traffic incident count into two different segments based on year, we find that between the years of 2017 and 2020 the trend is similar to the total trend. There is a slightly more pronounced increase in traffic incidents in the winter months. The median and mean number of traffic incidents are 15,628 and 16,676, respectively with a Min of 14,650 and a Max 21,184.**"
   ]
  },
  {
   "cell_type": "code",
   "execution_count": null,
   "id": "6ba228e4",
   "metadata": {},
   "outputs": [],
   "source": [
    "ti_df_formatted |>\n",
    "  filter(Year > 2020) |>\n",
    "  ggplot(aes(x = Month)) +\n",
    "  geom_histogram(binwidth = 1, center = 0, color = \"red\", fill = \"orange\") +\n",
    "  scale_x_continuous(breaks = seq(1, 12, by = 1), labels = seq(1, 12, by = 1)) +\n",
    "  labs(title = \"Viz. 10: Traffic Incident Counts From 2021 through 2023\")\n",
    "\n",
    "ti_df_formatted |>\n",
    "  filter(Year > 2020) |>\n",
    "  count(Month) |>\n",
    "  summary()"
   ]
  },
  {
   "cell_type": "markdown",
   "id": "955d4026",
   "metadata": {},
   "source": [
    "**Between the years of 2021 and 2023 the median and mean number of traffic incidents are 12,793 and 12,928, respectively with a Min of 11,361 and a Max 14,150. This shows that the \"winter effect\" is not as present in years closer to the most recent years in the data set.**\n",
    "\n",
    "# SDS 322E Project: Part 2\n",
    "\n",
    "## Classification and Prediction\n",
    "\n",
    "## Description - Classification and Prediction Report\n",
    "\n",
    "**We want to predict the number of Traffic Incidents. Our predictive variables will be:**\n",
    "**- Permit.Class.Simple**\n",
    "**- Permit.Type.Desc**\n",
    "**- Status.Current**\n",
    "**- Number.Of.Floors**\n",
    "\n",
    "**Our outcome variable is TI_count, the number of traffic incidents in a Zip code**\n",
    "\n",
    "**We will use both Linear Regression and KNN to predict Traffic Incident Counts as it is a continuous numeric variable.**"
   ]
  },
  {
   "cell_type": "code",
   "execution_count": null,
   "id": "3ba21089",
   "metadata": {},
   "outputs": [],
   "source": [
    "# Creating a new data frame for predictive analysis\n",
    "TI_Counts <- ti_df_formatted |>\n",
    "  group_by(`zipcode`) |>\n",
    "  summarize(incidents_count = n())\n",
    "\n",
    "# Assuming cp_df_noNA is your main dataframe\n",
    "encoded_counts <- cp_df_noNA |>\n",
    "  mutate(\n",
    "    is_R = as.integer(Permit.Class.Simple == \"R\"),\n",
    "    is_C = as.integer(Permit.Class.Simple == \"C\"),\n",
    "    is_Building = as.integer(Permit.Type.Desc == \"Building Permit\"),\n",
    "    is_Sidewalks = as.integer(Permit.Type.Desc == \"Driveway / Sidewalks\"),\n",
    "    is_Electric = as.integer(Permit.Type.Desc == \"Electrical Permit\"),\n",
    "    is_Mechanical = as.integer(Permit.Type.Desc == \"Mechanical Permit\"),\n",
    "    is_Plumbing = as.integer(Permit.Type.Desc == \"Plumbing Permit\"),\n",
    "    is_Active = as.integer(Status.Current == \"Active\"),\n",
    "    is_Final = as.integer(Status.Current == \"Final\")\n",
    "  ) |>\n",
    "  group_by(Original.Zip) |>\n",
    "  summarize(\n",
    "    R_count = sum(is_R),\n",
    "    C_count = sum(is_C),\n",
    "    Building_count = sum(is_Building),\n",
    "    Sidewalks_count = sum(is_Sidewalks),\n",
    "    Electric_count = sum(is_Electric),\n",
    "    Mechanical_count = sum(is_Mechanical),\n",
    "    Plumbing_count = sum(is_Plumbing),\n",
    "    Active_count = sum(is_Active),\n",
    "    Final_count = sum(is_Final),\n",
    "    Mean_Number_Of_Floors = round(mean(Number.Of.Floors, na.rm = TRUE), digits = 2)\n",
    "  )\n",
    "\n",
    "# Join with TI_Counts\n",
    "final_join <- inner_join(encoded_counts, TI_Counts, by = c(\"Original.Zip\" = \"zipcode\"))\n",
    "#------------------------\n",
    "\n",
    "final_join"
   ]
  },
  {
   "cell_type": "markdown",
   "id": "8a7688b4",
   "metadata": {},
   "source": [
    "# Model 1 - Linear Regression\n",
    "\n",
    "To asses the performance of the models, We will perform cross-validation. Specifically, we will perform a 10-fold cross-validation.\n",
    "\n",
    "``` {r}\n",
    "final_join <- final_join |>\n",
    "    filter(C_count < 20000)\n",
    "\n",
    "\n",
    "final_join <- final_join |>\n",
    "    filter(Mean_Number_Of_Floors < 5)\n",
    "\n",
    "max(final_join$C_count)\n",
    "max(final_join$Mean_Number_Of_Floors)\n",
    "```"
   ]
  },
  {
   "cell_type": "code",
   "execution_count": null,
   "id": "39eeee9b",
   "metadata": {
    "lines_to_next_cell": 0
   },
   "outputs": [],
   "source": [
    "# Implement a Linear Regression Model\n",
    "fit_lin <- lm(incidents_count ~ R_count + C_count + Mean_Number_Of_Floors, data = final_join)\n",
    "\n",
    "summary(fit_lin)\n"
   ]
  },
  {
   "cell_type": "markdown",
   "id": "82443388",
   "metadata": {},
   "source": [
    "``` {r}\n",
    "final_join |> \n",
    "  # Calculate predicted values\n",
    "  mutate(predicted = predict(fit_lin)) |> \n",
    "  # Use a ggplot to represent the relationship\n",
    "  ggplot(aes(x = R_count + C_count + Mean_Number_Of_Floors, y = incidents_count)) +\n",
    "  # Add the linear model\n",
    "  geom_smooth(method = \"lm\", se = FALSE, color = \"steelblue\", size = 2) + \n",
    "  # Add residuals = vertical segments from observations to predicted\n",
    "  geom_segment(aes(xend = R_count + C_count + Mean_Number_Of_Floors, yend = predicted), alpha = .5, color = \"red\") +\n",
    "  # Display the observed data\n",
    "  geom_point(size = 4) +\n",
    "  # Display the predicted (on top of the line)\n",
    "  geom_point(aes(y = predicted), size = 4, color = \"orange\") +\n",
    "  labs(x = \"R_count + C_count + Mean_Number_Of_Floors\",\n",
    "       y = \"Count of incidents\",\n",
    "       title = \"Linear regression model with residuals\")\n",
    "```\n",
    "**In the graphic above, the orange dots represent predicted values while the black dots represent the actual values. The red line represent the difference between the two values, known as the residual values.**\n",
    "\n"
   ]
  },
  {
   "cell_type": "code",
   "execution_count": null,
   "id": "3ad82f54",
   "metadata": {
    "lines_to_next_cell": 0
   },
   "outputs": [],
   "source": [
    "\n",
    "final_join2 <- final_join |>\n",
    "  mutate(predictions = predict(fit_lin, final_join)) |>\n",
    "  select(incidents_count, R_count, C_count, Mean_Number_Of_Floors, predictions)\n",
    "\n",
    "# Scatter plot of actual vs predicted incidents count\n",
    "ggplot(final_join2, aes(x = incidents_count, y = predictions)) +\n",
    "  geom_point(color = \"blue\", size = 3) + # Points for actual vs predicted\n",
    "  geom_abline(intercept = 0, slope = 1, color = \"red\", linetype = \"dashed\") + # Ideal fit line\n",
    "  labs(\n",
    "    title = \"Actual vs Predicted Incidents Count\",\n",
    "    x = \"Actual Incidents Count\",\n",
    "    y = \"Predicted Incidents Count\"\n",
    "  )\n",
    "\n",
    "cor(final_join2$incidents_count, final_join2$predictions)\n"
   ]
  },
  {
   "cell_type": "markdown",
   "id": "404062d8",
   "metadata": {},
   "source": [
    "**The actual and predicted values have a correlation 79.59%**"
   ]
  },
  {
   "cell_type": "code",
   "execution_count": null,
   "id": "c60769cf",
   "metadata": {},
   "outputs": [],
   "source": [
    "RMSE = sqrt(mean(resid(fit_lin)^2))\n",
    "RMSE"
   ]
  },
  {
   "cell_type": "markdown",
   "id": "b60c34ab",
   "metadata": {
    "lines_to_next_cell": 0
   },
   "source": [
    "**Adding predicted and residuals to the data frame.**\n",
    "\n",
    "``` {r}\n",
    "final_join |> \n",
    "  # First add predicted values based on model\n",
    "  mutate(predicted = predict(fit_lin)) |> \n",
    "  # Calculate residuals = observed - predicted\n",
    "  mutate(residuals = incidents_count - predicted) |>\n",
    "  # Only display variables of interest\n",
    "  select(R_count, C_count, Mean_Number_Of_Floors, incidents_count, predicted, residuals)\n",
    "```\n",
    "\n",
    "# Cross-validation - Linear Regression\n",
    "\n",
    "``` {r}\n",
    "# Choose number of folds\n",
    "k = 5 \n",
    "\n",
    "# To have the same random sample, use set.seed\n",
    "set.seed(322)\n",
    "\n",
    "# Randomly order rows in the dataset\n",
    "data <- final_join[sample(nrow(final_join)), ] \n",
    "\n",
    "# Create k folds from the dataset\n",
    "folds <- cut(seq(1:nrow(data)), breaks = k, labels = FALSE)\n",
    "```\n",
    "\n",
    "``` {r}\n",
    "# Initialize a vector to keep track of the performance for each k-fold\n",
    "perf_k <- NULL\n",
    "\n",
    "# Use a for-loop to get performance for each k-fold\n",
    "for(i in 1:k){\n",
    "  # Split data into train and test data\n",
    "  train_not_i <- data[folds != i, ] # train data = all observations except in fold i\n",
    "  test_i <- data[folds == i, ]  # test data = observations in fold i\n",
    "  \n",
    "  # Train model on train data (all but fold i)\n",
    "  # CHANGE: what model/predictors should be included\n",
    "  train_model <- lm(incidents_count ~ R_count + C_count + Mean_Number_Of_Floors, data = train_not_i)\n",
    "      \n",
    "  \n",
    "  # Performance listed for each test data = fold i\n",
    "  # CHANGE: how the performance is calculated\n",
    "  perf_k[i] <- sqrt(mean((test_i$incidents_count - predict(train_model, test_i))^2))\n",
    "}\n",
    "\n",
    "# Performance for each fold \n",
    "perf_k\n",
    "\n",
    "# Average performance over all k folds\n",
    "mean(perf_k)\n",
    "sd(perf_k)\n",
    "```\n",
    "**Cross validation of the Linear Regression model shows us that the average RMSE, the difference between the actual and predicted values, is 3351.139. Since the Standard Deviation of the RMSE across folds is particularly large at 1,187.919, the prediction model is not particularly consistent across the different folds.** \n",
    "\n",
    "# Model 2 - K-nearest neighbors (KNN)"
   ]
  },
  {
   "cell_type": "code",
   "execution_count": null,
   "id": "daa2efa0",
   "metadata": {},
   "outputs": [],
   "source": [
    "#install.packages(\"caret\")\n",
    "library(caret)\n",
    "\n",
    "fit_knnreg <- knnreg(incidents_count ~ R_count + C_count + Mean_Number_Of_Floors,\n",
    "                     data = final_join,\n",
    "                     k = 5) # Number of Neighbors\n",
    "\n",
    "final_join1 <- final_join |>\n",
    "  mutate(predictions = predict(fit_knnreg, final_join)) |>\n",
    "  select(incidents_count, R_count, C_count, Mean_Number_Of_Floors, predictions)\n",
    "\n",
    "sqrt(mean((final_join$incidents_count - predict(fit_knnreg, final_join))^2))\n",
    "\n",
    "final_join1 <- final_join1 |> \n",
    "  mutate(prediction_group = cut(predictions, breaks = 5, labels = FALSE))\n",
    "\n",
    "# Scatter plot to visualize feature space with color-coded predictions\n",
    "ggplot(final_join1, aes(x = R_count, y = incidents_count, color = as.factor(prediction_group))) +\n",
    "  geom_point(size = 3) +\n",
    "  labs(\n",
    "    title = \"KNN Predicted Grouping in Feature Space\",\n",
    "    x = \"R_count\",\n",
    "    y = \"incidents_count\",\n",
    "    color = \"Prediction Group\"\n",
    "  )\n",
    "\n",
    "# Scatter plot to visualize feature space with color-coded predictions\n",
    "ggplot(final_join1, aes(x = C_count, y = incidents_count, color = as.factor(prediction_group))) +\n",
    "  geom_point(size = 3) +\n",
    "  labs(\n",
    "    title = \"KNN Predicted Grouping in Feature Space\",\n",
    "    x = \"C_count\",\n",
    "    y = \"incidents_count\",\n",
    "    color = \"Prediction Group\"\n",
    "  )\n",
    "\n",
    "# Scatter plot to visualize feature space with color-coded predictions\n",
    "ggplot(final_join1, aes(x = Mean_Number_Of_Floors, y = incidents_count, color = as.factor(prediction_group))) +\n",
    "  geom_point(size = 3) +\n",
    "  labs(\n",
    "    title = \"KNN Predicted Grouping in Feature Space\",\n",
    "    x = \"Mean_Number_Of_Floors\",\n",
    "    y = \"incidents_count\",\n",
    "    color = \"Prediction Group\"\n",
    "  )\n"
   ]
  },
  {
   "cell_type": "markdown",
   "id": "10824329",
   "metadata": {
    "lines_to_next_cell": 0
   },
   "source": [
    "``` {r}\n",
    "\n",
    "\n",
    "# Scatter plot of actual vs predicted incidents count\n",
    "ggplot(final_join1, aes(x = incidents_count, y = predictions)) +\n",
    "  geom_point(color = \"blue\", size = 3) + # Points for actual vs predicted\n",
    "  geom_abline(intercept = 0, slope = 1, color = \"red\", linetype = \"dashed\") + # Ideal fit line\n",
    "  labs(\n",
    "    title = \"Actual vs Predicted Incidents Count\",\n",
    "    x = \"Actual Incidents Count\",\n",
    "    y = \"Predicted Incidents Count\"\n",
    "  )\n",
    "\n",
    "cor(final_join1$incidents_count, final_join1$predictions)\n",
    "\n",
    "\n",
    "final_join1 |> \n",
    "  # Calculate predicted values\n",
    "  mutate(predicted = predict(fit_knnreg, final_join)) |> \n",
    "  # Use a ggplot to represent the relationship\n",
    "  ggplot(aes(x = R_count + C_count + Mean_Number_Of_Floors, y = incidents_count)) +\n",
    "  # Add the linear model\n",
    "  geom_smooth(method = \"lm\", se = FALSE, color = \"steelblue\", size = 2) + \n",
    "  # Add residuals = vertical segments from observations to predicted\n",
    "  geom_segment(aes(xend = R_count + C_count + Mean_Number_Of_Floors, yend = predicted), alpha = .5, color = \"red\") +\n",
    "  # Display the observed data\n",
    "  geom_point(size = 4) +\n",
    "  # Display the predicted (on top of the line)\n",
    "  geom_point(aes(y = predicted), size = 4, color = \"orange\") +\n",
    "  labs(x = \"R_count + C_count + Mean_Number_Of_Floors\",\n",
    "       y = \"Count of incidents\",\n",
    "       title = \"Linear regression model with residuals\")\n",
    "\n",
    "\n",
    "```\n",
    "**In the graphic above, the orange dots represent predicted values while the black dots represent the actual values. The red line represent the difference between the two values, known as the residual values. The actual and predicted values have a correlation 85.71%, which is higher than that from the linear regression, though the RMSE is also higher (seen below).**\n",
    "\n",
    "# Cross-validation - K-nearest neighbors (KNN)"
   ]
  },
  {
   "cell_type": "code",
   "execution_count": null,
   "id": "53327bf7",
   "metadata": {},
   "outputs": [],
   "source": [
    "# Choose number of folds\n",
    "k = 5 \n",
    "\n",
    "# To have the same random sample, use set.seed\n",
    "set.seed(322)\n",
    "\n",
    "# Randomly order rows in the dataset\n",
    "data <- final_join[sample(nrow(final_join)), ] \n",
    "\n",
    "# Create k folds from the dataset\n",
    "folds <- cut(seq(1:nrow(data)), breaks = k, labels = FALSE)\n",
    "\n",
    "\n",
    "\n",
    "# Initialize a vector to keep track of the performance for each k-fold\n",
    "perf_k <- NULL\n",
    "\n",
    "# Use a for-loop to get performance for each k-fold\n",
    "for(i in 1:k){\n",
    "  # Split data into train and test data\n",
    "  train_not_i <- data[folds != i, ] # train data = all observations except in fold i\n",
    "  test_i <- data[folds == i, ]  # test data = observations in fold i\n",
    "  \n",
    "  # Train model on train data (all but fold i)\n",
    "  # CHANGE: what model/predictors should be included\n",
    "  train_model <- knnreg(incidents_count ~ R_count + C_count + Mean_Number_Of_Floors,\n",
    "                     data = train_not_i,\n",
    "                     k = 5)\n",
    "  \n",
    "  # Performance listed for each test data = fold i\n",
    "  # CHANGE: how the performance is calculated\n",
    "  perf_k[i] <- sqrt(mean((test_i$incidents_count - predict(train_model, test_i))^2))\n",
    "}\n",
    "\n",
    "# Performance for each fold \n",
    "perf_k\n",
    "\n",
    "# Average performance over all k folds\n",
    "mean(perf_k)\n",
    "sd(perf_k)"
   ]
  },
  {
   "cell_type": "markdown",
   "id": "a8646ca9",
   "metadata": {},
   "source": [
    "**Cross validation of the KNN model shows us that the average RMSE, the difference between the actual and predicted values, is 3787.428. Since the Standard Deviation of the RMSE across folds is particularly large at 1,217.553, the prediction model is not particularly consistent across the different folds, though it is still comparable to the linear regression, especially when taken in combination with the higher correlation coefficient.** \n",
    "\n",
    "# Discussion\n",
    "\n",
    "There is indeed a difference in impact between Residential construction project and Commercial construction projects on Traffic Incidents. Specifically looking at the scatterplots (Vis. 3 and 4), we see that there is a stronger positive correlation between the number of Commercial construction permits and the number of Traffic Incidents than between the number of Residential construction projects and the number of Traffic Incidents, though as we expected, both seem to show positive correlations.\n",
    "\n",
    "The visualization match our expectations as shown in Visualization 6 & 7 as the number traffic incidents increase per zipcode as they are closer in proximity to the city center. It is important to note that the zipcodes that are closer to the city center are smaller in area and higher in density. Visualizations 9 & 10 show that in earlier years (Vis. 9) the number of traffic incidents increased in the winter months while in recent years (Vis. 10) the traffic incident counts across the month are more uniform. We would like to note that shape file that we used was for the year of 2010 while the data is for the years of 2017 through 2023. If these ZIP codes were changed in their spatial construction, the results of this study may differ, though we do expect these differences to be minor.\n",
    "\n",
    "The biggest takeaways from this EDA Study would be that 1) In past years, there was an increase in traffic incidents during the winter months compared to more recent years, 2) The density of traffic incidents increases in the ZIP codes closer in proximity to the city center, 3) There are generally more zipcodes with fewer permits when looking at either residential or commercial construction permits, and 4) There is a stronger positive correlation between the number of commercial construction permits and the number of traffic incidents than there is between the number of residential construction permits and the number of traffic incidents.\n",
    "\n",
    "# Reflection, acknowledgements, and references\n",
    "\n",
    "One of the biggest challenges was understanding how to get the data into the correct dataframes and format to answer our research questions. To accomplish this task we had to understand certain syntax rules in R, particularly considering grouping, counting, and using shapefiles to map geospatial data. We learned how to better clean and visualize our data in order to answer our research questions to a satisfactory degree. Furthermore, we came to realize how important it is to clean the data before beginning our analysis and how to put certain values in useable formats, e.g., dates.\n",
    "\n",
    "The datasets are linked above, where one can find information about the data owners. We would like to extend our gratitude to our professor, Dr. Layla Guyot, and our UGCA, Vamsi Abena, for their help and guidance with our EDA. Also, thank you to the City of Austin for making this data publicly accessible so that we can carry out this project. We, Tigris and Dan, contributed to equal parts of the project with special individual contributions to our particularly research questions.\n",
    "\n",
    "# Links and References\n",
    "\n",
    "[Construction Permit Dataset](https://data.austintexas.gov/Building-and-Development/Issued-Construction-Permits/3syk-w9eu/about_data) [Traffic Incident Dataset](https://data.austintexas.gov/Transportation-and-Mobility/Real-Time-Traffic-Incident-Reports/dx9v-zd7x/about_data) [Crash Rates During Non-Construction and Construction Periods (Mangones et al., 2021)](https://www.sciencedirect.com/science/article/pii/S235214652100819X)"
   ]
  }
 ],
 "metadata": {
  "jupytext": {
   "cell_metadata_filter": "name,tags,-all",
   "main_language": "R",
   "notebook_metadata_filter": "-all"
  }
 },
 "nbformat": 4,
 "nbformat_minor": 5
}
